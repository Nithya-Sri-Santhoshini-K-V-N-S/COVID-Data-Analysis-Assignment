{
  "nbformat": 4,
  "nbformat_minor": 0,
  "metadata": {
    "colab": {
      "name": "COVID Data Analysis Assignment.ipynb",
      "provenance": []
    },
    "kernelspec": {
      "name": "python3",
      "display_name": "Python 3"
    },
    "language_info": {
      "name": "python"
    }
  },
  "cells": [
    {
      "cell_type": "markdown",
      "metadata": {
        "id": "1-5atBdCSyUs"
      },
      "source": [
        "# **COVID Data Analysis Assignment**"
      ]
    },
    {
      "cell_type": "markdown",
      "metadata": {
        "id": "i8PBqTB9TiHY"
      },
      "source": [
        "Importing the library"
      ]
    },
    {
      "cell_type": "code",
      "metadata": {
        "id": "8AexSD-BSx74"
      },
      "source": [
        "import pandas as pd"
      ],
      "execution_count": 1,
      "outputs": []
    },
    {
      "cell_type": "markdown",
      "metadata": {
        "id": "AURAzUgJTnNJ"
      },
      "source": [
        "Reading the Data"
      ]
    },
    {
      "cell_type": "code",
      "metadata": {
        "id": "b2CUnPaYTfkI"
      },
      "source": [
        "df = pd.read_csv(\"/content/country_vaccinations.csv\")\n",
        "df = df.fillna(0)"
      ],
      "execution_count": 2,
      "outputs": []
    },
    {
      "cell_type": "code",
      "metadata": {
        "colab": {
          "base_uri": "https://localhost:8080/",
          "height": 394
        },
        "id": "eFRccJPIT3eC",
        "outputId": "a91bb88f-06fa-4c4d-fb00-8a0f229f29f6"
      },
      "source": [
        "df.head()"
      ],
      "execution_count": 3,
      "outputs": [
        {
          "output_type": "execute_result",
          "data": {
            "text/html": [
              "<div>\n",
              "<style scoped>\n",
              "    .dataframe tbody tr th:only-of-type {\n",
              "        vertical-align: middle;\n",
              "    }\n",
              "\n",
              "    .dataframe tbody tr th {\n",
              "        vertical-align: top;\n",
              "    }\n",
              "\n",
              "    .dataframe thead th {\n",
              "        text-align: right;\n",
              "    }\n",
              "</style>\n",
              "<table border=\"1\" class=\"dataframe\">\n",
              "  <thead>\n",
              "    <tr style=\"text-align: right;\">\n",
              "      <th></th>\n",
              "      <th>country</th>\n",
              "      <th>iso_code</th>\n",
              "      <th>date</th>\n",
              "      <th>total_vaccinations</th>\n",
              "      <th>people_vaccinated</th>\n",
              "      <th>people_fully_vaccinated</th>\n",
              "      <th>daily_vaccinations_raw</th>\n",
              "      <th>daily_vaccinations</th>\n",
              "      <th>total_vaccinations_per_hundred</th>\n",
              "      <th>people_vaccinated_per_hundred</th>\n",
              "      <th>people_fully_vaccinated_per_hundred</th>\n",
              "      <th>daily_vaccinations_per_million</th>\n",
              "      <th>vaccines</th>\n",
              "      <th>source_name</th>\n",
              "      <th>source_website</th>\n",
              "    </tr>\n",
              "  </thead>\n",
              "  <tbody>\n",
              "    <tr>\n",
              "      <th>0</th>\n",
              "      <td>Afghanistan</td>\n",
              "      <td>AFG</td>\n",
              "      <td>2021-02-22</td>\n",
              "      <td>0.0</td>\n",
              "      <td>0.0</td>\n",
              "      <td>0.0</td>\n",
              "      <td>0.0</td>\n",
              "      <td>0.0</td>\n",
              "      <td>0.0</td>\n",
              "      <td>0.0</td>\n",
              "      <td>0.0</td>\n",
              "      <td>0.0</td>\n",
              "      <td>Oxford/AstraZeneca</td>\n",
              "      <td>Government of Afghanistan</td>\n",
              "      <td>https://reliefweb.int/report/afghanistan/afgha...</td>\n",
              "    </tr>\n",
              "    <tr>\n",
              "      <th>1</th>\n",
              "      <td>Afghanistan</td>\n",
              "      <td>AFG</td>\n",
              "      <td>2021-02-23</td>\n",
              "      <td>0.0</td>\n",
              "      <td>0.0</td>\n",
              "      <td>0.0</td>\n",
              "      <td>0.0</td>\n",
              "      <td>1367.0</td>\n",
              "      <td>0.0</td>\n",
              "      <td>0.0</td>\n",
              "      <td>0.0</td>\n",
              "      <td>35.0</td>\n",
              "      <td>Oxford/AstraZeneca</td>\n",
              "      <td>Government of Afghanistan</td>\n",
              "      <td>https://reliefweb.int/report/afghanistan/afgha...</td>\n",
              "    </tr>\n",
              "    <tr>\n",
              "      <th>2</th>\n",
              "      <td>Afghanistan</td>\n",
              "      <td>AFG</td>\n",
              "      <td>2021-02-24</td>\n",
              "      <td>0.0</td>\n",
              "      <td>0.0</td>\n",
              "      <td>0.0</td>\n",
              "      <td>0.0</td>\n",
              "      <td>1367.0</td>\n",
              "      <td>0.0</td>\n",
              "      <td>0.0</td>\n",
              "      <td>0.0</td>\n",
              "      <td>35.0</td>\n",
              "      <td>Oxford/AstraZeneca</td>\n",
              "      <td>Government of Afghanistan</td>\n",
              "      <td>https://reliefweb.int/report/afghanistan/afgha...</td>\n",
              "    </tr>\n",
              "    <tr>\n",
              "      <th>3</th>\n",
              "      <td>Afghanistan</td>\n",
              "      <td>AFG</td>\n",
              "      <td>2021-02-25</td>\n",
              "      <td>0.0</td>\n",
              "      <td>0.0</td>\n",
              "      <td>0.0</td>\n",
              "      <td>0.0</td>\n",
              "      <td>1367.0</td>\n",
              "      <td>0.0</td>\n",
              "      <td>0.0</td>\n",
              "      <td>0.0</td>\n",
              "      <td>35.0</td>\n",
              "      <td>Oxford/AstraZeneca</td>\n",
              "      <td>Government of Afghanistan</td>\n",
              "      <td>https://reliefweb.int/report/afghanistan/afgha...</td>\n",
              "    </tr>\n",
              "    <tr>\n",
              "      <th>4</th>\n",
              "      <td>Afghanistan</td>\n",
              "      <td>AFG</td>\n",
              "      <td>2021-02-26</td>\n",
              "      <td>0.0</td>\n",
              "      <td>0.0</td>\n",
              "      <td>0.0</td>\n",
              "      <td>0.0</td>\n",
              "      <td>1367.0</td>\n",
              "      <td>0.0</td>\n",
              "      <td>0.0</td>\n",
              "      <td>0.0</td>\n",
              "      <td>35.0</td>\n",
              "      <td>Oxford/AstraZeneca</td>\n",
              "      <td>Government of Afghanistan</td>\n",
              "      <td>https://reliefweb.int/report/afghanistan/afgha...</td>\n",
              "    </tr>\n",
              "  </tbody>\n",
              "</table>\n",
              "</div>"
            ],
            "text/plain": [
              "       country  ...                                     source_website\n",
              "0  Afghanistan  ...  https://reliefweb.int/report/afghanistan/afgha...\n",
              "1  Afghanistan  ...  https://reliefweb.int/report/afghanistan/afgha...\n",
              "2  Afghanistan  ...  https://reliefweb.int/report/afghanistan/afgha...\n",
              "3  Afghanistan  ...  https://reliefweb.int/report/afghanistan/afgha...\n",
              "4  Afghanistan  ...  https://reliefweb.int/report/afghanistan/afgha...\n",
              "\n",
              "[5 rows x 15 columns]"
            ]
          },
          "metadata": {},
          "execution_count": 3
        }
      ]
    },
    {
      "cell_type": "code",
      "metadata": {
        "colab": {
          "base_uri": "https://localhost:8080/",
          "height": 309
        },
        "id": "52jOm6nYT9gz",
        "outputId": "25cbfe90-4368-44f8-dbb1-6e23a3e6fbf5"
      },
      "source": [
        "df.tail()"
      ],
      "execution_count": 4,
      "outputs": [
        {
          "output_type": "execute_result",
          "data": {
            "text/html": [
              "<div>\n",
              "<style scoped>\n",
              "    .dataframe tbody tr th:only-of-type {\n",
              "        vertical-align: middle;\n",
              "    }\n",
              "\n",
              "    .dataframe tbody tr th {\n",
              "        vertical-align: top;\n",
              "    }\n",
              "\n",
              "    .dataframe thead th {\n",
              "        text-align: right;\n",
              "    }\n",
              "</style>\n",
              "<table border=\"1\" class=\"dataframe\">\n",
              "  <thead>\n",
              "    <tr style=\"text-align: right;\">\n",
              "      <th></th>\n",
              "      <th>country</th>\n",
              "      <th>iso_code</th>\n",
              "      <th>date</th>\n",
              "      <th>total_vaccinations</th>\n",
              "      <th>people_vaccinated</th>\n",
              "      <th>people_fully_vaccinated</th>\n",
              "      <th>daily_vaccinations_raw</th>\n",
              "      <th>daily_vaccinations</th>\n",
              "      <th>total_vaccinations_per_hundred</th>\n",
              "      <th>people_vaccinated_per_hundred</th>\n",
              "      <th>people_fully_vaccinated_per_hundred</th>\n",
              "      <th>daily_vaccinations_per_million</th>\n",
              "      <th>vaccines</th>\n",
              "      <th>source_name</th>\n",
              "      <th>source_website</th>\n",
              "    </tr>\n",
              "  </thead>\n",
              "  <tbody>\n",
              "    <tr>\n",
              "      <th>15500</th>\n",
              "      <td>Zimbabwe</td>\n",
              "      <td>ZWE</td>\n",
              "      <td>2021-04-30</td>\n",
              "      <td>500342.0</td>\n",
              "      <td>414735.0</td>\n",
              "      <td>85607.0</td>\n",
              "      <td>22745.0</td>\n",
              "      <td>19194.0</td>\n",
              "      <td>3.37</td>\n",
              "      <td>2.79</td>\n",
              "      <td>0.58</td>\n",
              "      <td>1291.0</td>\n",
              "      <td>Sinopharm/Beijing</td>\n",
              "      <td>Ministry of Health</td>\n",
              "      <td>https://twitter.com/MoHCCZim/status/1389675251...</td>\n",
              "    </tr>\n",
              "    <tr>\n",
              "      <th>15501</th>\n",
              "      <td>Zimbabwe</td>\n",
              "      <td>ZWE</td>\n",
              "      <td>2021-05-01</td>\n",
              "      <td>520299.0</td>\n",
              "      <td>428135.0</td>\n",
              "      <td>92164.0</td>\n",
              "      <td>19957.0</td>\n",
              "      <td>21171.0</td>\n",
              "      <td>3.50</td>\n",
              "      <td>2.88</td>\n",
              "      <td>0.62</td>\n",
              "      <td>1424.0</td>\n",
              "      <td>Sinopharm/Beijing</td>\n",
              "      <td>Ministry of Health</td>\n",
              "      <td>https://twitter.com/MoHCCZim/status/1389675251...</td>\n",
              "    </tr>\n",
              "    <tr>\n",
              "      <th>15502</th>\n",
              "      <td>Zimbabwe</td>\n",
              "      <td>ZWE</td>\n",
              "      <td>2021-05-02</td>\n",
              "      <td>524199.0</td>\n",
              "      <td>430068.0</td>\n",
              "      <td>94131.0</td>\n",
              "      <td>3900.0</td>\n",
              "      <td>19169.0</td>\n",
              "      <td>3.53</td>\n",
              "      <td>2.89</td>\n",
              "      <td>0.63</td>\n",
              "      <td>1290.0</td>\n",
              "      <td>Sinopharm/Beijing</td>\n",
              "      <td>Ministry of Health</td>\n",
              "      <td>https://twitter.com/MoHCCZim/status/1389675251...</td>\n",
              "    </tr>\n",
              "    <tr>\n",
              "      <th>15503</th>\n",
              "      <td>Zimbabwe</td>\n",
              "      <td>ZWE</td>\n",
              "      <td>2021-05-03</td>\n",
              "      <td>537516.0</td>\n",
              "      <td>437751.0</td>\n",
              "      <td>99765.0</td>\n",
              "      <td>13317.0</td>\n",
              "      <td>17987.0</td>\n",
              "      <td>3.62</td>\n",
              "      <td>2.95</td>\n",
              "      <td>0.67</td>\n",
              "      <td>1210.0</td>\n",
              "      <td>Sinopharm/Beijing</td>\n",
              "      <td>Ministry of Health</td>\n",
              "      <td>https://twitter.com/MoHCCZim/status/1389675251...</td>\n",
              "    </tr>\n",
              "    <tr>\n",
              "      <th>15504</th>\n",
              "      <td>Zimbabwe</td>\n",
              "      <td>ZWE</td>\n",
              "      <td>2021-05-04</td>\n",
              "      <td>559777.0</td>\n",
              "      <td>452191.0</td>\n",
              "      <td>107586.0</td>\n",
              "      <td>22261.0</td>\n",
              "      <td>17977.0</td>\n",
              "      <td>3.77</td>\n",
              "      <td>3.04</td>\n",
              "      <td>0.72</td>\n",
              "      <td>1210.0</td>\n",
              "      <td>Sinopharm/Beijing</td>\n",
              "      <td>Ministry of Health</td>\n",
              "      <td>https://twitter.com/MoHCCZim/status/1389675251...</td>\n",
              "    </tr>\n",
              "  </tbody>\n",
              "</table>\n",
              "</div>"
            ],
            "text/plain": [
              "        country  ...                                     source_website\n",
              "15500  Zimbabwe  ...  https://twitter.com/MoHCCZim/status/1389675251...\n",
              "15501  Zimbabwe  ...  https://twitter.com/MoHCCZim/status/1389675251...\n",
              "15502  Zimbabwe  ...  https://twitter.com/MoHCCZim/status/1389675251...\n",
              "15503  Zimbabwe  ...  https://twitter.com/MoHCCZim/status/1389675251...\n",
              "15504  Zimbabwe  ...  https://twitter.com/MoHCCZim/status/1389675251...\n",
              "\n",
              "[5 rows x 15 columns]"
            ]
          },
          "metadata": {},
          "execution_count": 4
        }
      ]
    },
    {
      "cell_type": "code",
      "metadata": {
        "colab": {
          "base_uri": "https://localhost:8080/"
        },
        "id": "WTGQ1GEXUAIi",
        "outputId": "5387f64d-8cba-4134-9625-a65b6e2d1166"
      },
      "source": [
        "df.info()"
      ],
      "execution_count": 5,
      "outputs": [
        {
          "output_type": "stream",
          "name": "stdout",
          "text": [
            "<class 'pandas.core.frame.DataFrame'>\n",
            "RangeIndex: 15505 entries, 0 to 15504\n",
            "Data columns (total 15 columns):\n",
            " #   Column                               Non-Null Count  Dtype  \n",
            "---  ------                               --------------  -----  \n",
            " 0   country                              15505 non-null  object \n",
            " 1   iso_code                             15505 non-null  object \n",
            " 2   date                                 15505 non-null  object \n",
            " 3   total_vaccinations                   15505 non-null  float64\n",
            " 4   people_vaccinated                    15505 non-null  float64\n",
            " 5   people_fully_vaccinated              15505 non-null  float64\n",
            " 6   daily_vaccinations_raw               15505 non-null  float64\n",
            " 7   daily_vaccinations                   15505 non-null  float64\n",
            " 8   total_vaccinations_per_hundred       15505 non-null  float64\n",
            " 9   people_vaccinated_per_hundred        15505 non-null  float64\n",
            " 10  people_fully_vaccinated_per_hundred  15505 non-null  float64\n",
            " 11  daily_vaccinations_per_million       15505 non-null  float64\n",
            " 12  vaccines                             15505 non-null  object \n",
            " 13  source_name                          15505 non-null  object \n",
            " 14  source_website                       15505 non-null  object \n",
            "dtypes: float64(9), object(6)\n",
            "memory usage: 1.8+ MB\n"
          ]
        }
      ]
    },
    {
      "cell_type": "code",
      "metadata": {
        "colab": {
          "base_uri": "https://localhost:8080/"
        },
        "id": "3Rn3dVnCUDt4",
        "outputId": "58558f9b-fd39-4f56-91a5-af1cbac25775"
      },
      "source": [
        "df.isnull().sum()"
      ],
      "execution_count": 6,
      "outputs": [
        {
          "output_type": "execute_result",
          "data": {
            "text/plain": [
              "country                                0\n",
              "iso_code                               0\n",
              "date                                   0\n",
              "total_vaccinations                     0\n",
              "people_vaccinated                      0\n",
              "people_fully_vaccinated                0\n",
              "daily_vaccinations_raw                 0\n",
              "daily_vaccinations                     0\n",
              "total_vaccinations_per_hundred         0\n",
              "people_vaccinated_per_hundred          0\n",
              "people_fully_vaccinated_per_hundred    0\n",
              "daily_vaccinations_per_million         0\n",
              "vaccines                               0\n",
              "source_name                            0\n",
              "source_website                         0\n",
              "dtype: int64"
            ]
          },
          "metadata": {},
          "execution_count": 6
        }
      ]
    },
    {
      "cell_type": "markdown",
      "metadata": {
        "id": "wErdRfpNTDW2"
      },
      "source": [
        "**Q1. Total number of people vaccinated in Argentina (Atleast Once)**"
      ]
    },
    {
      "cell_type": "code",
      "metadata": {
        "colab": {
          "base_uri": "https://localhost:8080/"
        },
        "id": "PdawfMhTTH7A",
        "outputId": "9617d39a-2d0a-4fcc-be53-0f4ec83b8b8f"
      },
      "source": [
        "print(\"Total number of people vaccinated in Argentina (atleast once) is\",int(df[df['country'] == 'Argentina']['people_vaccinated'].max()))"
      ],
      "execution_count": 7,
      "outputs": [
        {
          "output_type": "stream",
          "name": "stdout",
          "text": [
            "Total number of people vaccinated in Argentina (atleast once) is 7261176\n"
          ]
        }
      ]
    },
    {
      "cell_type": "markdown",
      "metadata": {
        "id": "v8dVn7k0TILy"
      },
      "source": [
        "**Q2. Total number of countries in this dataset**"
      ]
    },
    {
      "cell_type": "code",
      "metadata": {
        "colab": {
          "base_uri": "https://localhost:8080/"
        },
        "id": "qgZCG5JZTLUw",
        "outputId": "ab256a94-327e-496e-cf21-699b9ce92c34"
      },
      "source": [
        "print(\"Total number of countries in this dataset is\",df['country'].nunique())"
      ],
      "execution_count": 8,
      "outputs": [
        {
          "output_type": "stream",
          "name": "stdout",
          "text": [
            "Total number of countries in this dataset is 195\n"
          ]
        }
      ]
    },
    {
      "cell_type": "markdown",
      "metadata": {
        "id": "Md9TDQlrTLrZ"
      },
      "source": [
        "**Q3. Maximum number of people vaccinated in a country**"
      ]
    },
    {
      "cell_type": "code",
      "metadata": {
        "colab": {
          "base_uri": "https://localhost:8080/"
        },
        "id": "AndYcB_CTPHY",
        "outputId": "d2142031-53bf-453e-f8f3-67153d18c940"
      },
      "source": [
        "df.groupby(\"country\").max()['people_vaccinated'].sort_values(ascending = False)"
      ],
      "execution_count": 9,
      "outputs": [
        {
          "output_type": "execute_result",
          "data": {
            "text/plain": [
              "country\n",
              "United States                       148562891.0\n",
              "India                               129730641.0\n",
              "United Kingdom                       34795074.0\n",
              "Brazil                               30921100.0\n",
              "England                              29124310.0\n",
              "                                       ...     \n",
              "China                                       0.0\n",
              "Saudi Arabia                                0.0\n",
              "Samoa                                       0.0\n",
              "Ethiopia                                    0.0\n",
              "Saint Vincent and the Grenadines            0.0\n",
              "Name: people_vaccinated, Length: 195, dtype: float64"
            ]
          },
          "metadata": {},
          "execution_count": 9
        }
      ]
    },
    {
      "cell_type": "code",
      "metadata": {
        "colab": {
          "base_uri": "https://localhost:8080/"
        },
        "id": "tMjj0d0-VCW7",
        "outputId": "e4de6dcd-eae6-425c-a1d3-41d864e31798"
      },
      "source": [
        "df.groupby(\"country\").max()['people_vaccinated'].sort_values(ascending = False).head(1)"
      ],
      "execution_count": 10,
      "outputs": [
        {
          "output_type": "execute_result",
          "data": {
            "text/plain": [
              "country\n",
              "United States    148562891.0\n",
              "Name: people_vaccinated, dtype: float64"
            ]
          },
          "metadata": {},
          "execution_count": 10
        }
      ]
    },
    {
      "cell_type": "markdown",
      "metadata": {
        "id": "leZgCoLLXb_1"
      },
      "source": [
        "Maximum number of people vaccinated in United States is 148562891.0\n"
      ]
    },
    {
      "cell_type": "markdown",
      "metadata": {
        "id": "ez1FhU7_TPeS"
      },
      "source": [
        "**Q4. Top 5 Countries in terms of number of people vaccinated**"
      ]
    },
    {
      "cell_type": "code",
      "metadata": {
        "colab": {
          "base_uri": "https://localhost:8080/"
        },
        "id": "SuOP3jLUX23n",
        "outputId": "a2fc3744-a65c-4fd3-b2f2-09acd67fe34c"
      },
      "source": [
        "df.groupby(\"country\").max()['people_vaccinated'].sort_values(ascending = False).head()"
      ],
      "execution_count": 11,
      "outputs": [
        {
          "output_type": "execute_result",
          "data": {
            "text/plain": [
              "country\n",
              "United States     148562891.0\n",
              "India             129730641.0\n",
              "United Kingdom     34795074.0\n",
              "Brazil             30921100.0\n",
              "England            29124310.0\n",
              "Name: people_vaccinated, dtype: float64"
            ]
          },
          "metadata": {},
          "execution_count": 11
        }
      ]
    },
    {
      "cell_type": "code",
      "metadata": {
        "colab": {
          "base_uri": "https://localhost:8080/",
          "height": 378
        },
        "id": "nH5kJCKQX4dk",
        "outputId": "b5b2012f-3764-4373-ec25-e5c01a61bf8a"
      },
      "source": [
        "df.groupby(\"country\").max()['people_vaccinated'].sort_values(ascending = False).head().plot.bar()"
      ],
      "execution_count": 12,
      "outputs": [
        {
          "output_type": "execute_result",
          "data": {
            "text/plain": [
              "<matplotlib.axes._subplots.AxesSubplot at 0x7fe1cf254810>"
            ]
          },
          "metadata": {},
          "execution_count": 12
        },
        {
          "output_type": "display_data",
          "data": {
            "image/png": "[encoded data removed]",
            "text/plain": [
              "<Figure size 432x288 with 1 Axes>"
            ]
          },
          "metadata": {
            "needs_background": "light"
          }
        }
      ]
    }
  ]
}